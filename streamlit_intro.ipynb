{
 "cells": [
  {
   "cell_type": "markdown",
   "id": "032f2b8a",
   "metadata": {},
   "source": [
    "# Streamlit Introduction"
   ]
  },
  {
   "cell_type": "markdown",
   "id": "fb21cacb",
   "metadata": {},
   "source": [
    "Pros:\n",
    "- Easy to share your work via their website.\n",
    "- Very easy to create dashboards.\n",
    "- Useful when we want to do something quick, simple and good looking.\n",
    "- Open source and active development.\n",
    "\n",
    "Cons:\n",
    "- Not very customisable.\n",
    "- Good for small to medium project, but it's hard to make it work for big projects.\n",
    "\n",
    "More about it on [this website](https://digitaldefynd.com/IQ/pros-cons-of-streamlit/)"
   ]
  },
  {
   "cell_type": "markdown",
   "id": "59431037",
   "metadata": {
    "vscode": {
     "languageId": "plaintext"
    }
   },
   "source": [
    "## Installation\n",
    "\n",
    "https://docs.streamlit.io/get-started/installation\n",
    "\n",
    "Once it's done, you can try running in your terminal:\n",
    "\n",
    "`streamlit hello`\n",
    "\n",
    "Most of the time you need to specify a file:\n",
    "\n",
    "`streamlit run your_script.py`\n",
    "\n",
    "You can even run a distant file:\n",
    "\n",
    "`streamlit run https://raw.githubusercontent.com/streamlit/demo-uber-nyc-pickups/master/streamlit_app.py`\n",
    "\n",
    "Or lunch streamlit as a python library:\n",
    "\n",
    "`python -m streamlit hello`\n",
    "\n",
    "Or if you have a specific script to run:\n",
    "\n",
    "`python -m streamlit run your_script.py`"
   ]
  },
  {
   "cell_type": "markdown",
   "id": "ebc39531",
   "metadata": {},
   "source": [
    "## First scripts\n",
    "\n",
    "read : https://docs.streamlit.io/get-started/fundamentals/main-concepts\n",
    "\n",
    "You can make sure Streamlit is already on runOnSave mode using this syntax:\n",
    "\n",
    "```\n",
    "streamlit run my_app.py --server.runOnSave true\n",
    "```\n",
    "\n"
   ]
  },
  {
   "cell_type": "markdown",
   "id": "081a682a",
   "metadata": {},
   "source": [
    "### Exercice\n",
    "\n",
    "**>>>** Create a streamlit app in a file named \"my_app\" that contains only a `st.write()`."
   ]
  },
  {
   "cell_type": "markdown",
   "id": "a6ba1197",
   "metadata": {},
   "source": [
    "### Exercice\n",
    "\n",
    "**>>>**\n",
    "- Copy paste the example from the Streamlit doc about Pandas Dataframe.\n",
    "- Make it work with the runOnSave parameter set to true (either in the app or using the right command line).\n",
    "- Change the dataframe and see how Streamlit reacts.\n",
    "- Look at the behavior of streamlit : \"If Streamlit sees a variable or a literal value on its own line, it automatically writes that to your app using st.write()\"."
   ]
  },
  {
   "cell_type": "markdown",
   "id": "ad8ec8ec",
   "metadata": {},
   "source": [
    "## Exercice\n",
    "\n",
    "**>>> Frost Days**\n",
    "\n",
    "Some vine makers are interested in knowing how many days per year temperature drops below 0°C on average for each weather station in France. Make a streamlit app that answers this question. You can find relevant data here:\n",
    "\n",
    "Temperatures : https://meteo.data.gouv.fr/datasets/donnees-climatologiques-de-base-quotidiennes/ **(datasets N°1)**\n",
    "\n",
    "Meta data are here: https://object.files.data.gouv.fr/meteofrance/data/synchro_ftp/BASE/QUOT/Q_descriptif_champs_RR-T-Vent.csv **(dataset N°2)**\n",
    "\n",
    "You can find a list of weather stations here: https://meteo.data.gouv.fr/datasets/656dab84db1bdf627a40eaae **(dataset N°3)**\n",
    "\n",
    "And a file with all the french cities and their coordinates here : https://www.data.gouv.fr/datasets/communes-et-villes-de-france-en-csv-excel-json-parquet-et-feather/ **(dataset N°4)**\n",
    "\n",
    "\n",
    "**App**:\n",
    "\n",
    "- The user must choose a city in France.\n",
    "- The app then displays statistics about the number of frost days per year for the closest weather station to that city.\n",
    "- It displays a graph with the probability of having a frost day for each day of the year (computed over 10 years).\n",
    "- It should look like this:\n",
    "\n",
    "![](files/app_screenshot.png)\n",
    "\n",
    "**Steps**:\n",
    "\n",
    "1. First, take a look at the data and try to understand them. Try to think what could be useful for the user and how can you process the data. (datasets N°1 and N°2)\n",
    "\n",
    "1. You also need to find out how to find the closest weather station to a city. To do so you can use the dataset describing each city with its coordinates and the dataset describing each weather station with its coordinates (datasets N°3 and N°4). To compute the distance between two points on the Earth's surface, you can use the Haversine formula or a KDTree (Haversine is more accurate, KDTree is faster to implement). Once it's done export the dataframe with the closest station for each city to a csv file.\n",
    "\n",
    "1. Then create a script with a function which can load and process the data from any city (and department). You need to compute the number of frost days per year for the closest weather station to that city. You can export the resulting dataframe to a csv file to check if everything is correct.\n",
    "\n",
    "1. Finally, create a streamlit app that uses the function you created in step 3 to display the results for any city the user wants. You can use a text input with autocomplete to help the user find its city. (You can export the dataframe with all the cities to a csv file and load it in your app to make the autocomplete faster). You can use `st.bar_chart()` to display the results.\n",
    "\n",
    "1. At the end you can try to deploy it online through the community streamlit service with a github repository.\n",
    "\n",
    "**Tips**:\n",
    "\n",
    "- Data quality isn't great. You can choose to remove any station that have a completion rate inferior at 65% to make sure the remaining stations have good data quality.\n",
    "\n",
    "- You can check out an example of two dataframes via the files `df.csv` and `ref_df.csv` in the \"frost_days_output\" folder. The date indicates the year 2000, but it's just a placeholder. The data have been computed over 10 years (2013-2024)."
   ]
  },
  {
   "cell_type": "markdown",
   "id": "90866286",
   "metadata": {},
   "source": []
  }
 ],
 "metadata": {
  "kernelspec": {
   "display_name": "v",
   "language": "python",
   "name": "python3"
  },
  "language_info": {
   "codemirror_mode": {
    "name": "ipython",
    "version": 3
   },
   "file_extension": ".py",
   "mimetype": "text/x-python",
   "name": "python",
   "nbconvert_exporter": "python",
   "pygments_lexer": "ipython3",
   "version": "3.12.0"
  }
 },
 "nbformat": 4,
 "nbformat_minor": 5
}
