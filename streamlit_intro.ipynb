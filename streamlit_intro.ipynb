{
 "cells": [
  {
   "cell_type": "markdown",
   "id": "032f2b8a",
   "metadata": {},
   "source": [
    "# Streamlit Introduction"
   ]
  },
  {
   "cell_type": "markdown",
   "id": "fb21cacb",
   "metadata": {},
   "source": [
    "Pros:\n",
    "- Easy to share your work via their website.\n",
    "- Very easy to create dashboards.\n",
    "- Useful when we want to do something quick, simple and good looking.\n",
    "- Open source and active development.\n",
    "\n",
    "Cons:\n",
    "- Not very customisable.\n",
    "- Good for small to medium project, but it's hard to make it work for big projects.\n",
    "\n",
    "More about it on [this website](https://digitaldefynd.com/IQ/pros-cons-of-streamlit/)"
   ]
  },
  {
   "cell_type": "markdown",
   "id": "59431037",
   "metadata": {
    "vscode": {
     "languageId": "plaintext"
    }
   },
   "source": [
    "## Installation\n",
    "\n",
    "https://docs.streamlit.io/get-started/installation\n",
    "\n",
    "Once it's done, you can try running in your terminal:\n",
    "\n",
    "`streamlit hello`\n",
    "\n",
    "Most of the time you need to specify a file:\n",
    "\n",
    "`streamlit run your_script.py`\n",
    "\n",
    "You can even run a distant file:\n",
    "\n",
    "`streamlit run https://raw.githubusercontent.com/streamlit/demo-uber-nyc-pickups/master/streamlit_app.py`\n",
    "\n",
    "Or lunch streamlit as a python library:\n",
    "\n",
    "`python -m streamlit hello`\n",
    "\n",
    "Or if you have a specific script to run:\n",
    "\n",
    "`python -m streamlit run your_script.py`"
   ]
  },
  {
   "cell_type": "markdown",
   "id": "ebc39531",
   "metadata": {},
   "source": [
    "## First scripts\n",
    "\n",
    "read : https://docs.streamlit.io/get-started/fundamentals/main-concepts\n",
    "\n",
    "You can make sure Streamlit is already on runOnSave mode using this syntax:\n",
    "\n",
    "```\n",
    "streamlit run my_app.py --server.runOnSave true\n",
    "```\n",
    "\n"
   ]
  },
  {
   "cell_type": "markdown",
   "id": "081a682a",
   "metadata": {},
   "source": [
    "### Exercice\n",
    "\n",
    "**>>>** Create a streamlit app in a file named \"my_app\" that contains only a `st.write()`."
   ]
  },
  {
   "cell_type": "markdown",
   "id": "a6ba1197",
   "metadata": {},
   "source": [
    "### Exercice\n",
    "\n",
    "**>>>**\n",
    "- Copy paste the example from the Streamlit doc about Pandas Dataframe.\n",
    "- Make it work with the runOnSave parameter set to true (either in the app or using the right command line).\n",
    "- Change the dataframe and see how Streamlit reacts.\n",
    "- Look at the behavior of streamlit : \"If Streamlit sees a variable or a literal value on its own line, it automatically writes that to your app using st.write()\"."
   ]
  },
  {
   "cell_type": "markdown",
   "id": "ad8ec8ec",
   "metadata": {},
   "source": [
    "## Exercice\n",
    "\n",
    "**>>>** Some vine makers are interested in knowing how many days per year temperature drops below 0°C on average for each weather station. Make a streamlit app that answers this question. You can find relevant data here:\n",
    "\n",
    "(https://meteo.data.gouv.fr/datasets/donnees-climatologiques-de-base-quotidiennes/)\n",
    "\n",
    "Meta data are here: (https://object.files.data.gouv.fr/meteofrance/data/synchro_ftp/BASE/QUOT/Q_descriptif_champs_RR-T-Vent.csv)\n",
    "\n",
    "\n",
    "- First, take a look at the data and try to understand them. Try to think what could be useful for the user and how can you process the data.\n",
    "- Then create a script with a function which can load and process the data from any department\n",
    "- First make sure your dashboard works with only one departement.\n",
    "- When it's working, add the possibility for the user to process the data from any department. - A map seems like a good idea.\n",
    "- At the end you can try to deploy it online through the community streamlit service.\n",
    "\n",
    "**Tips**:\n",
    "\n",
    "- Data quality isn't great. You can choose to remove any station that have a completion rate inferior at 65% to make sure the remaining stations have good data quality.\n",
    "- It's better to use [several pages](https://docs.streamlit.io/get-started/tutorials/create-a-multipage-app). In that case [cache](https://docs.streamlit.io/develop/api-reference/caching-and-state/st.cache_data) some data so you can use it in al your pages.\n"
   ]
  },
  {
   "cell_type": "markdown",
   "id": "90866286",
   "metadata": {},
   "source": []
  }
 ],
 "metadata": {
  "kernelspec": {
   "display_name": "v",
   "language": "python",
   "name": "python3"
  },
  "language_info": {
   "codemirror_mode": {
    "name": "ipython",
    "version": 3
   },
   "file_extension": ".py",
   "mimetype": "text/x-python",
   "name": "python",
   "nbconvert_exporter": "python",
   "pygments_lexer": "ipython3",
   "version": "3.12.0"
  }
 },
 "nbformat": 4,
 "nbformat_minor": 5
}
